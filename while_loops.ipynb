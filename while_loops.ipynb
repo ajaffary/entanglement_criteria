{
 "cells": [
  {
   "cell_type": "code",
   "execution_count": 19,
   "metadata": {},
   "outputs": [],
   "source": [
    "import numpy as np\n",
    "import create_statevector as cs\n",
    "import inspect"
   ]
  },
  {
   "cell_type": "code",
   "execution_count": null,
   "metadata": {},
   "outputs": [],
   "source": [
    "# Exception Handling with Boolean Expressions\n",
    "# https://stackoverflow.com/questions/37751273/exception-handling-with-boolean-expressions\n",
    "\n",
    "# User input with while loops\n",
    "# https://stackoverflow.com/questions/23294658/asking-the-user-for-input-until-they-give-a-valid-response"
   ]
  },
  {
   "cell_type": "code",
   "execution_count": null,
   "metadata": {},
   "outputs": [],
   "source": [
    "x = 3 + 4j\n",
    "type(x) in [int, float, complex]"
   ]
  },
  {
   "cell_type": "code",
   "execution_count": null,
   "metadata": {},
   "outputs": [],
   "source": [
    "# Get amplitude of single ket via user input\n",
    "def get_amplitude(key: str):\n",
    "    \"\"\" get a complex number from user input\n",
    "    \"\"\"\n",
    "\n",
    "    # checks if user input is a number\n",
    "    while True:\n",
    "        amplitude = input(f\"Enter an amplitude for {key}: \")\n",
    "        \n",
    "        # empty user input defaults to '0' amplitude\n",
    "        if amplitude == \"\":\n",
    "            amplitude = 0\n",
    "        try:\n",
    "            # convert user input to complex number type\n",
    "            amplitude = complex(amplitude)\n",
    "        except ValueError:\n",
    "            print(f\"Error: amplitude for {key} must be a number.\")\n",
    "            continue\n",
    "        else:\n",
    "            break\n",
    "    \n",
    "    return amplitude\n",
    "\n",
    "# Get amplitudes for each ket in Qiskit Statevector Dictionary\n",
    "def get_amplitudes(statevector):\n",
    "    \"\"\" Populate a Qiskit Statevector dictionary values with amplitudes via\n",
    "    user input\n",
    "    \"\"\"\n",
    "    # Update ket amplitudes\n",
    "    for key in statevector.keys():\n",
    "        statevector[key] = get_amplitude(key)\n",
    "\n",
    "    return statevector\n"
   ]
  },
  {
   "cell_type": "code",
   "execution_count": null,
   "metadata": {},
   "outputs": [],
   "source": [
    "get_amplitude('1001')"
   ]
  },
  {
   "cell_type": "code",
   "execution_count": null,
   "metadata": {},
   "outputs": [],
   "source": [
    "test = entang.Entangled(4)\n",
    "\n",
    "test.statevector"
   ]
  },
  {
   "cell_type": "code",
   "execution_count": null,
   "metadata": {},
   "outputs": [],
   "source": [
    "get_amplitudes(test.statevector)"
   ]
  },
  {
   "cell_type": "code",
   "execution_count": 7,
   "metadata": {},
   "outputs": [
    {
     "data": {
      "text/plain": [
       "{'0000': 0,\n",
       " '0001': 2,\n",
       " '0010': 3,\n",
       " '0011': 5,\n",
       " '0100': 0,\n",
       " '0101': 7,\n",
       " '0110': 8,\n",
       " '0111': 9,\n",
       " '1000': 0,\n",
       " '1001': 11,\n",
       " '1010': 0,\n",
       " '1011': 13,\n",
       " '1100': 17,\n",
       " '1101': 19,\n",
       " '1110': 0,\n",
       " '1111': 1}"
      ]
     },
     "execution_count": 7,
     "metadata": {},
     "output_type": "execute_result"
    }
   ],
   "source": [
    "new_statevector = cs.test_statevector()\n",
    "\n",
    "new_statevector"
   ]
  },
  {
   "cell_type": "code",
   "execution_count": 39,
   "metadata": {},
   "outputs": [],
   "source": [
    "# Generate a list of kets for user to choose for basis transformation\n",
    "def get_valid_kets(statevector) -> tuple:\n",
    "    # generate a list of valid kets with non-zero amplitudes\n",
    "    valid_kets = [\n",
    "        key for (key, value) in statevector.items() if value != 0\n",
    "        ]\n",
    "    \n",
    "    return tuple(valid_kets)\n",
    "\n",
    "# Get source_ket via user input\n",
    "def get_source_ket(valid_kets: tuple):\n",
    "    \"\"\" get a ket string from user input\n",
    "    \"\"\"\n",
    "    print(inspect.cleandoc(\n",
    "        \"\"\"Please choose a ket from the following list to map to the zero ket, \n",
    "        or press Enter to choose a random ket): \"\"\"\n",
    "        )\n",
    "    )\n",
    "    while True:\n",
    "        try:\n",
    "            # display list of valid kets\n",
    "            print(valid_kets)\n",
    "            # get user input and convert to string\n",
    "            source_ket = str(\n",
    "                input()\n",
    "            )    \n",
    "            # empty user input chooses random ket from valid_kets\n",
    "            if source_ket == \"\":\n",
    "                source_ket = np.random.choice(valid_kets)\n",
    "                print(\"Random Choice: \" + source_ket)\n",
    "            # check if user input is in valid_kets\n",
    "            elif source_ket not in valid_kets:\n",
    "                raise ValueError\n",
    "        except ValueError:\n",
    "            print(inspect.cleandoc(\n",
    "                \"\"\"Error, please choose a ket from the following list, or press \n",
    "                Enter to choose a random ket): \"\"\"\n",
    "                )\n",
    "            )\n",
    "            continue\n",
    "        else:\n",
    "            break\n",
    "            \n",
    "    return source_ket"
   ]
  },
  {
   "cell_type": "code",
   "execution_count": 9,
   "metadata": {},
   "outputs": [
    {
     "data": {
      "text/plain": [
       "('0001',\n",
       " '0010',\n",
       " '0011',\n",
       " '0101',\n",
       " '0110',\n",
       " '0111',\n",
       " '1001',\n",
       " '1011',\n",
       " '1100',\n",
       " '1101',\n",
       " '1111')"
      ]
     },
     "execution_count": 9,
     "metadata": {},
     "output_type": "execute_result"
    }
   ],
   "source": [
    "vk = get_valid_kets(new_statevector)\n",
    "\n",
    "vk"
   ]
  },
  {
   "cell_type": "code",
   "execution_count": 41,
   "metadata": {},
   "outputs": [
    {
     "name": "stdout",
     "output_type": "stream",
     "text": [
      "Please choose a ket from the following list to map to the zero ket, \n",
      "or press Enter to choose a random ket): \n",
      "('0001', '0010', '0011', '0101', '0110', '0111', '1001', '1011', '1100', '1101', '1111')\n",
      "Error, please choose a ket from the following list, or press \n",
      "Enter to choose a random ket): \n",
      "('0001', '0010', '0011', '0101', '0110', '0111', '1001', '1011', '1100', '1101', '1111')\n",
      "Error, please choose a ket from the following list, or press \n",
      "Enter to choose a random ket): \n",
      "('0001', '0010', '0011', '0101', '0110', '0111', '1001', '1011', '1100', '1101', '1111')\n",
      "Random Choice: 0001\n"
     ]
    },
    {
     "data": {
      "text/plain": [
       "'0001'"
      ]
     },
     "execution_count": 41,
     "metadata": {},
     "output_type": "execute_result"
    }
   ],
   "source": [
    "sk = get_source_ket(vk)\n",
    "\n",
    "sk"
   ]
  },
  {
   "cell_type": "code",
   "execution_count": 33,
   "metadata": {},
   "outputs": [
    {
     "name": "stdout",
     "output_type": "stream",
     "text": [
      "Error, please choose a ket from the following list:\n",
      "(Press Enter to choose a random ket)\n"
     ]
    }
   ],
   "source": [
    "print(\n",
    "    inspect.cleandoc(\"\"\"      \n",
    "      Error, please choose a ket from the following list:\n",
    "      (Press Enter to choose a random ket)\"\"\"\n",
    "      )\n",
    ")"
   ]
  }
 ],
 "metadata": {
  "kernelspec": {
   "display_name": "Python 3",
   "language": "python",
   "name": "python3"
  },
  "language_info": {
   "codemirror_mode": {
    "name": "ipython",
    "version": 3
   },
   "file_extension": ".py",
   "mimetype": "text/x-python",
   "name": "python",
   "nbconvert_exporter": "python",
   "pygments_lexer": "ipython3",
   "version": "3.11.4"
  }
 },
 "nbformat": 4,
 "nbformat_minor": 2
}
