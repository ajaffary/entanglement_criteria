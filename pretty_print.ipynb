{
 "cells": [
  {
   "cell_type": "code",
   "execution_count": 8,
   "metadata": {},
   "outputs": [],
   "source": [
    "import entanglement_class as entang\n",
    "import create_statevector as cs\n",
    "import pprint"
   ]
  },
  {
   "cell_type": "code",
   "execution_count": 7,
   "metadata": {},
   "outputs": [
    {
     "name": "stdout",
     "output_type": "stream",
     "text": [
      "{'0000': (1+0j), '0001': (1+0j), '0010': (1+0j), '0011': (1+0j), '0100': (1+0j), '0101': (1+0j), '0110': (1+0j), '0111': (1+0j), '1000': (1+0j), '1001': (1+0j), '1010': (1+0j), '1011': (1+0j), '1100': (1+0j), '1101': (1+0j), '1110': (1+0j), '1111': (1+0j)}\n",
      "{'0000': 0, '0001': 2, '0010': 3, '0011': 5, '0100': 0, '0101': 7, '0110': 8, '0111': 9, '1000': 0, '1001': 11, '1010': 0, '1011': 13, '1100': 17, '1101': 19, '1110': 0, '1111': 1}\n"
     ]
    }
   ],
   "source": [
    "x = entang.Entangled(4)\n",
    "x.statevector\n",
    "y = cs.test_statevector()\n",
    "\n",
    "print(x.statevector)\n",
    "print(y)\n"
   ]
  },
  {
   "cell_type": "code",
   "execution_count": 12,
   "metadata": {},
   "outputs": [
    {
     "name": "stdout",
     "output_type": "stream",
     "text": [
      "{'0000': (1+0j),\n",
      " '0001': (1+0j),\n",
      " '0010': (1+0j),\n",
      " '0011': (1+0j),\n",
      " '0100': (1+0j),\n",
      " '0101': (1+0j),\n",
      " '0110': (1+0j),\n",
      " '0111': (1+0j),\n",
      " '1000': (1+0j),\n",
      " '1001': (1+0j),\n",
      " '1010': (1+0j),\n",
      " '1011': (1+0j),\n",
      " '1100': (1+0j),\n",
      " '1101': (1+0j),\n",
      " '1110': (1+0j),\n",
      " '1111': (1+0j)}\n",
      "{'0000': 0,\n",
      " '0001': 2,\n",
      " '0010': 3,\n",
      " '0011': 5,\n",
      " '0100': 0,\n",
      " '0101': 7,\n",
      " '0110': 8,\n",
      " '0111': 9,\n",
      " '1000': 0,\n",
      " '1001': 11,\n",
      " '1010': 0,\n",
      " '1011': 13,\n",
      " '1100': 17,\n",
      " '1101': 19,\n",
      " '1110': 0,\n",
      " '1111': 1}\n"
     ]
    }
   ],
   "source": [
    "pprint.pprint(x.statevector)\n",
    "pprint.pprint(y)"
   ]
  },
  {
   "cell_type": "code",
   "execution_count": 15,
   "metadata": {},
   "outputs": [
    {
     "name": "stdout",
     "output_type": "stream",
     "text": [
      "|Psi> is not Entangled\n",
      "{'0011': {'basis_kets': ['0010', '0001'],\n",
      "          'equality': True,\n",
      "          'target_amplitude': (1+0j)},\n",
      " '0101': {'basis_kets': ['0100', '0001'],\n",
      "          'equality': True,\n",
      "          'target_amplitude': (1+0j)},\n",
      " '0110': {'basis_kets': ['0100', '0010'],\n",
      "          'equality': True,\n",
      "          'target_amplitude': (1+0j)},\n",
      " '0111': {'basis_kets': ['0100', '0010', '0001'],\n",
      "          'equality': True,\n",
      "          'target_amplitude': (1+0j)},\n",
      " '1001': {'basis_kets': ['1000', '0001'],\n",
      "          'equality': True,\n",
      "          'target_amplitude': (1+0j)},\n",
      " '1010': {'basis_kets': ['1000', '0010'],\n",
      "          'equality': True,\n",
      "          'target_amplitude': (1+0j)},\n",
      " '1011': {'basis_kets': ['1000', '0010', '0001'],\n",
      "          'equality': True,\n",
      "          'target_amplitude': (1+0j)},\n",
      " '1100': {'basis_kets': ['1000', '0100'],\n",
      "          'equality': True,\n",
      "          'target_amplitude': (1+0j)},\n",
      " '1101': {'basis_kets': ['1000', '0100', '0001'],\n",
      "          'equality': True,\n",
      "          'target_amplitude': (1+0j)},\n",
      " '1110': {'basis_kets': ['1000', '0100', '0010'],\n",
      "          'equality': True,\n",
      "          'target_amplitude': (1+0j)},\n",
      " '1111': {'basis_kets': ['1000', '0100', '0010', '0001'],\n",
      "          'equality': True,\n",
      "          'target_amplitude': (1+0j)}}\n"
     ]
    }
   ],
   "source": [
    "result = x.entangled(x.statevector)\n",
    "\n",
    "pprint.pprint(result)"
   ]
  },
  {
   "cell_type": "code",
   "execution_count": 16,
   "metadata": {},
   "outputs": [
    {
     "name": "stdout",
     "output_type": "stream",
     "text": [
      "Please choose a ket from the following list to map \n",
      "to the zero ket, or press Enter to choose a random ket): \n",
      "('0001', '0010', '0011', '0101', '0110', '0111', '1001', '1011', '1100', '1101', '1111')\n",
      "Random Choice: 0010\n",
      "|Psi> is Entangled\n"
     ]
    }
   ],
   "source": [
    "y_result = x.entangled(y)"
   ]
  },
  {
   "cell_type": "code",
   "execution_count": 19,
   "metadata": {},
   "outputs": [
    {
     "name": "stdout",
     "output_type": "stream",
     "text": [
      "('0001',\n",
      " '0010',\n",
      " '0011',\n",
      " '0101',\n",
      " '0110',\n",
      " '0111',\n",
      " '1001',\n",
      " '1011',\n",
      " '1100',\n",
      " '1101',\n",
      " '1111')\n"
     ]
    }
   ],
   "source": [
    "vk = x.get_valid_kets(y)\n",
    "\n",
    "pprint.pprint(vk)"
   ]
  },
  {
   "cell_type": "code",
   "execution_count": 20,
   "metadata": {},
   "outputs": [
    {
     "name": "stdout",
     "output_type": "stream",
     "text": [
      "Please choose a ket from the following list to map \n",
      "to the zero ket, or press Enter to choose a random ket): \n",
      "('0001', '0010', '0011', '0101', '0110', '0111', '1001', '1011', '1100', '1101', '1111')\n",
      "Random Choice: 1100\n"
     ]
    }
   ],
   "source": [
    "sk = x.get_source_ket(vk)"
   ]
  },
  {
   "cell_type": "code",
   "execution_count": 17,
   "metadata": {},
   "outputs": [
    {
     "name": "stdout",
     "output_type": "stream",
     "text": [
      "{'0011': {'basis_kets': ['0010', '0001'],\n",
      "          'equality': False,\n",
      "          'target_amplitude': 0.0},\n",
      " '0101': {'basis_kets': ['0100', '0001'],\n",
      "          'equality': False,\n",
      "          'target_amplitude': 4.444444444444445},\n",
      " '0110': {'basis_kets': ['0100', '0010'],\n",
      "          'equality': True,\n",
      "          'target_amplitude': 0.0},\n",
      " '0111': {'basis_kets': ['0100', '0010', '0001'],\n",
      "          'equality': False,\n",
      "          'target_amplitude': 0.0},\n",
      " '1001': {'basis_kets': ['1000', '0001'],\n",
      "          'equality': False,\n",
      "          'target_amplitude': 0.0},\n",
      " '1010': {'basis_kets': ['1000', '0010'],\n",
      "          'equality': True,\n",
      "          'target_amplitude': 0.0},\n",
      " '1011': {'basis_kets': ['1000', '0010', '0001'],\n",
      "          'equality': False,\n",
      "          'target_amplitude': 0.0},\n",
      " '1100': {'basis_kets': ['1000', '0100'],\n",
      "          'equality': True,\n",
      "          'target_amplitude': 0.0},\n",
      " '1101': {'basis_kets': ['1000', '0100', '0001'],\n",
      "          'equality': False,\n",
      "          'target_amplitude': 0.0},\n",
      " '1110': {'basis_kets': ['1000', '0100', '0010'],\n",
      "          'equality': False,\n",
      "          'target_amplitude': 0.0},\n",
      " '1111': {'basis_kets': ['1000', '0100', '0010', '0001'],\n",
      "          'equality': False,\n",
      "          'target_amplitude': 0.0}}\n"
     ]
    }
   ],
   "source": [
    "pprint.pprint(y_result)"
   ]
  }
 ],
 "metadata": {
  "kernelspec": {
   "display_name": "Python 3",
   "language": "python",
   "name": "python3"
  },
  "language_info": {
   "codemirror_mode": {
    "name": "ipython",
    "version": 3
   },
   "file_extension": ".py",
   "mimetype": "text/x-python",
   "name": "python",
   "nbconvert_exporter": "python",
   "pygments_lexer": "ipython3",
   "version": "3.11.4"
  }
 },
 "nbformat": 4,
 "nbformat_minor": 2
}
