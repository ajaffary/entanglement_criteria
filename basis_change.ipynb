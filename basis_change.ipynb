{
 "cells": [
  {
   "cell_type": "code",
   "execution_count": 113,
   "metadata": {},
   "outputs": [],
   "source": [
    "import numpy as np\n",
    "from qiskit.quantum_info import Statevector\n",
    "from qiskit.quantum_info import random_statevector\n",
    "import create_statevector as cs"
   ]
  },
  {
   "cell_type": "code",
   "execution_count": 87,
   "metadata": {},
   "outputs": [
    {
     "data": {
      "text/plain": [
       "[0, 2, 3]"
      ]
     },
     "execution_count": 87,
     "metadata": {},
     "output_type": "execute_result"
    }
   ],
   "source": [
    "# Basis Change\n",
    "\n",
    "# Can skip this index process entirely\n",
    "# and use bitwise XOR with binary ints\n",
    "# this method can be used to build ket in new basis\n",
    "def get_bit_flip_indices(ket):\n",
    "    return [index for index, bit in enumerate(ket) if bit == \"1\"]\n",
    "\n",
    "bit_flip_indices = get_bit_flip_indices('1011')\n",
    "\n",
    "bit_flip_indices"
   ]
  },
  {
   "cell_type": "code",
   "execution_count": 12,
   "metadata": {},
   "outputs": [
    {
     "ename": "KeyboardInterrupt",
     "evalue": "Interrupted by user",
     "output_type": "error",
     "traceback": [
      "\u001b[0;31m---------------------------------------------------------------------------\u001b[0m",
      "\u001b[0;31mKeyboardInterrupt\u001b[0m                         Traceback (most recent call last)",
      "Cell \u001b[0;32mIn[12], line 1\u001b[0m\n\u001b[0;32m----> 1\u001b[0m x \u001b[38;5;241m=\u001b[39m \u001b[43mcs\u001b[49m\u001b[38;5;241;43m.\u001b[39;49m\u001b[43mget_amplitudes\u001b[49m\u001b[43m(\u001b[49m\u001b[38;5;241;43m4\u001b[39;49m\u001b[43m)\u001b[49m\n",
      "File \u001b[0;32m~/Documents/code/entanglement/qiskit/entanglement_criteria/create_statevector.py:62\u001b[0m, in \u001b[0;36mget_amplitudes\u001b[0;34m(n)\u001b[0m\n\u001b[1;32m     60\u001b[0m \u001b[38;5;66;03m# Update ket amplitudes\u001b[39;00m\n\u001b[1;32m     61\u001b[0m \u001b[38;5;28;01mfor\u001b[39;00m key \u001b[38;5;129;01min\u001b[39;00m statevector\u001b[38;5;241m.\u001b[39mkeys():\n\u001b[0;32m---> 62\u001b[0m     statevector[key] \u001b[38;5;241m=\u001b[39m \u001b[43mget_amplitude\u001b[49m\u001b[43m(\u001b[49m\u001b[43mkey\u001b[49m\u001b[43m)\u001b[49m\n\u001b[1;32m     64\u001b[0m \u001b[38;5;28;01mreturn\u001b[39;00m statevector\n",
      "File \u001b[0;32m~/Documents/code/entanglement/qiskit/entanglement_criteria/create_statevector.py:34\u001b[0m, in \u001b[0;36mget_amplitude\u001b[0;34m(key, recursive)\u001b[0m\n\u001b[1;32m     31\u001b[0m     message \u001b[38;5;241m=\u001b[39m \u001b[38;5;124mf\u001b[39m\u001b[38;5;124m\"\u001b[39m\u001b[38;5;124mEnter an amplitude for \u001b[39m\u001b[38;5;132;01m{\u001b[39;00mkey\u001b[38;5;132;01m}\u001b[39;00m\u001b[38;5;124m: \u001b[39m\u001b[38;5;124m\"\u001b[39m\n\u001b[1;32m     33\u001b[0m \u001b[38;5;66;03m# get user input\u001b[39;00m\n\u001b[0;32m---> 34\u001b[0m amplitude \u001b[38;5;241m=\u001b[39m \u001b[38;5;28;43minput\u001b[39;49m\u001b[43m(\u001b[49m\u001b[43mmessage\u001b[49m\u001b[43m)\u001b[49m\n\u001b[1;32m     36\u001b[0m \u001b[38;5;66;03m# empty user input defaults to '0' amplitude\u001b[39;00m\n\u001b[1;32m     37\u001b[0m \u001b[38;5;28;01mif\u001b[39;00m amplitude \u001b[38;5;241m==\u001b[39m \u001b[38;5;124m\"\u001b[39m\u001b[38;5;124m\"\u001b[39m:\n",
      "File \u001b[0;32m~/.local/lib/python3.11/site-packages/ipykernel/kernelbase.py:1202\u001b[0m, in \u001b[0;36mKernel.raw_input\u001b[0;34m(self, prompt)\u001b[0m\n\u001b[1;32m   1200\u001b[0m     msg \u001b[38;5;241m=\u001b[39m \u001b[38;5;124m\"\u001b[39m\u001b[38;5;124mraw_input was called, but this frontend does not support input requests.\u001b[39m\u001b[38;5;124m\"\u001b[39m\n\u001b[1;32m   1201\u001b[0m     \u001b[38;5;28;01mraise\u001b[39;00m StdinNotImplementedError(msg)\n\u001b[0;32m-> 1202\u001b[0m \u001b[38;5;28;01mreturn\u001b[39;00m \u001b[38;5;28;43mself\u001b[39;49m\u001b[38;5;241;43m.\u001b[39;49m\u001b[43m_input_request\u001b[49m\u001b[43m(\u001b[49m\n\u001b[1;32m   1203\u001b[0m \u001b[43m    \u001b[49m\u001b[38;5;28;43mstr\u001b[39;49m\u001b[43m(\u001b[49m\u001b[43mprompt\u001b[49m\u001b[43m)\u001b[49m\u001b[43m,\u001b[49m\n\u001b[1;32m   1204\u001b[0m \u001b[43m    \u001b[49m\u001b[38;5;28;43mself\u001b[39;49m\u001b[38;5;241;43m.\u001b[39;49m\u001b[43m_parent_ident\u001b[49m\u001b[43m[\u001b[49m\u001b[38;5;124;43m\"\u001b[39;49m\u001b[38;5;124;43mshell\u001b[39;49m\u001b[38;5;124;43m\"\u001b[39;49m\u001b[43m]\u001b[49m\u001b[43m,\u001b[49m\n\u001b[1;32m   1205\u001b[0m \u001b[43m    \u001b[49m\u001b[38;5;28;43mself\u001b[39;49m\u001b[38;5;241;43m.\u001b[39;49m\u001b[43mget_parent\u001b[49m\u001b[43m(\u001b[49m\u001b[38;5;124;43m\"\u001b[39;49m\u001b[38;5;124;43mshell\u001b[39;49m\u001b[38;5;124;43m\"\u001b[39;49m\u001b[43m)\u001b[49m\u001b[43m,\u001b[49m\n\u001b[1;32m   1206\u001b[0m \u001b[43m    \u001b[49m\u001b[43mpassword\u001b[49m\u001b[38;5;241;43m=\u001b[39;49m\u001b[38;5;28;43;01mFalse\u001b[39;49;00m\u001b[43m,\u001b[49m\n\u001b[1;32m   1207\u001b[0m \u001b[43m\u001b[49m\u001b[43m)\u001b[49m\n",
      "File \u001b[0;32m~/.local/lib/python3.11/site-packages/ipykernel/kernelbase.py:1245\u001b[0m, in \u001b[0;36mKernel._input_request\u001b[0;34m(self, prompt, ident, parent, password)\u001b[0m\n\u001b[1;32m   1242\u001b[0m \u001b[38;5;28;01mexcept\u001b[39;00m \u001b[38;5;167;01mKeyboardInterrupt\u001b[39;00m:\n\u001b[1;32m   1243\u001b[0m     \u001b[38;5;66;03m# re-raise KeyboardInterrupt, to truncate traceback\u001b[39;00m\n\u001b[1;32m   1244\u001b[0m     msg \u001b[38;5;241m=\u001b[39m \u001b[38;5;124m\"\u001b[39m\u001b[38;5;124mInterrupted by user\u001b[39m\u001b[38;5;124m\"\u001b[39m\n\u001b[0;32m-> 1245\u001b[0m     \u001b[38;5;28;01mraise\u001b[39;00m \u001b[38;5;167;01mKeyboardInterrupt\u001b[39;00m(msg) \u001b[38;5;28;01mfrom\u001b[39;00m \u001b[38;5;28;01mNone\u001b[39;00m\n\u001b[1;32m   1246\u001b[0m \u001b[38;5;28;01mexcept\u001b[39;00m \u001b[38;5;167;01mException\u001b[39;00m:\n\u001b[1;32m   1247\u001b[0m     \u001b[38;5;28mself\u001b[39m\u001b[38;5;241m.\u001b[39mlog\u001b[38;5;241m.\u001b[39mwarning(\u001b[38;5;124m\"\u001b[39m\u001b[38;5;124mInvalid Message:\u001b[39m\u001b[38;5;124m\"\u001b[39m, exc_info\u001b[38;5;241m=\u001b[39m\u001b[38;5;28;01mTrue\u001b[39;00m)\n",
      "\u001b[0;31mKeyboardInterrupt\u001b[0m: Interrupted by user"
     ]
    }
   ],
   "source": [
    "x = cs.get_amplitudes(4)\n"
   ]
  },
  {
   "cell_type": "code",
   "execution_count": 95,
   "metadata": {},
   "outputs": [
    {
     "data": {
      "text/plain": [
       "{'0000': 0j,\n",
       " '0001': (2+0j),\n",
       " '0010': 0j,\n",
       " '0011': (3+0j),\n",
       " '0100': (1+0j),\n",
       " '0101': (2+0j),\n",
       " '0110': (3+0j),\n",
       " '0111': 0j,\n",
       " '1000': 0j,\n",
       " '1001': (4+0j),\n",
       " '1010': (2+0j),\n",
       " '1011': (3+0j),\n",
       " '1100': (4+0j),\n",
       " '1101': (2+0j),\n",
       " '1110': 0j,\n",
       " '1111': (1+0j)}"
      ]
     },
     "execution_count": 95,
     "metadata": {},
     "output_type": "execute_result"
    }
   ],
   "source": [
    "x"
   ]
  },
  {
   "cell_type": "code",
   "execution_count": 81,
   "metadata": {},
   "outputs": [
    {
     "name": "stdout",
     "output_type": "stream",
     "text": [
      "0101\n"
     ]
    }
   ],
   "source": [
    "ket = '1010'\n",
    "\n",
    "# Python strings are immutable, so create new string\n",
    "# or convert to binary integer and use XOR\n",
    "# then convert back to string\n",
    "\n",
    "# this flips all bits of a bitstring\n",
    "def flip_bits(ket):\n",
    "    new_ket = \"\"\n",
    "    for bit in ket:\n",
    "        if bit == '0':\n",
    "            new_ket += '1'\n",
    "        else:\n",
    "            new_ket += '0'\n",
    "    return new_ket\n",
    "\n",
    "flipped_ket = flip_bits(ket)\n",
    "\n",
    "print(flipped_ket)\n",
    "    "
   ]
  },
  {
   "cell_type": "code",
   "execution_count": 93,
   "metadata": {},
   "outputs": [
    {
     "name": "stdout",
     "output_type": "stream",
     "text": [
      "[0, 2, 3]\n"
     ]
    },
    {
     "data": {
      "text/plain": [
       "'0001'"
      ]
     },
     "execution_count": 93,
     "metadata": {},
     "output_type": "execute_result"
    }
   ],
   "source": [
    "print(bit_flip_indices)\n",
    "\n",
    "def flip_certain_bits(ket, list):\n",
    "    new_ket = \"\"\n",
    "    for index in range(len(ket)):\n",
    "        if index not in list:\n",
    "            new_ket += ket[index]\n",
    "        elif ket[index] == '0':\n",
    "            new_ket += '1'\n",
    "        else:\n",
    "            new_ket += '0'\n",
    "    return new_ket\n",
    "\n",
    "test = flip_certain_bits(ket, bit_flip_indices)\n",
    "\n",
    "test"
   ]
  },
  {
   "cell_type": "code",
   "execution_count": 92,
   "metadata": {},
   "outputs": [
    {
     "data": {
      "text/plain": [
       "'0001'"
      ]
     },
     "execution_count": 92,
     "metadata": {},
     "output_type": "execute_result"
    }
   ],
   "source": [
    "# number formatted in binary\n",
    "0b10**4\n",
    "\n",
    "# binary strings\n",
    "bin(0b10**4)\n",
    "bin(5)\n",
    "\n",
    "# format result as string of length 4\n",
    "format(0b1010 ^ 0b1011, '0'+'4'+'b')"
   ]
  },
  {
   "cell_type": "code",
   "execution_count": 91,
   "metadata": {},
   "outputs": [
    {
     "data": {
      "text/plain": [
       "'0001'"
      ]
     },
     "execution_count": 91,
     "metadata": {},
     "output_type": "execute_result"
    }
   ],
   "source": [
    "# convert ket strings to int base 2\n",
    "# perform XOR\n",
    "# format as string of length = number_qubits\n",
    "test = (int('1010',2))^(int('1011',2))\n",
    "format(test, '0'+'4'+'b')\n"
   ]
  },
  {
   "cell_type": "code",
   "execution_count": 16,
   "metadata": {},
   "outputs": [],
   "source": [
    "# list comprehension if/else:\n",
    "# https://stackoverflow.com/questions/4260280/if-else-in-a-list-comprehension\n",
    "            \n",
    "# if/else: [f(x) if condition else g(x) for x in sequence]\n",
    "# if only: [f(x) for x in sequence if condition]\n",
    "\n",
    "# [powers[index] for index, bit in enumerate(ket) if bit == \"1\"]\n",
    "\n",
    "# L = [ket[index] = 1 if ket[index] == 0 else ket[index] = 0 for index in list]"
   ]
  },
  {
   "cell_type": "code",
   "execution_count": 103,
   "metadata": {},
   "outputs": [
    {
     "name": "stdout",
     "output_type": "stream",
     "text": [
      "{'0000': 0j, '0001': (2+0j), '0010': 0j, '0011': (3+0j), '0100': (1+0j), '0101': (2+0j), '0110': (3+0j), '0111': 0j, '1000': 0j, '1001': (4+0j), '1010': (2+0j), '1011': (3+0j), '1100': (4+0j), '1101': (2+0j), '1110': 0j, '1111': (1+0j)}\n",
      "{'1011': 0j, '1010': (2+0j), '1001': 0j, '1000': (3+0j), '1111': (1+0j), '1110': (2+0j), '1101': (3+0j), '1100': 0j, '0011': 0j, '0010': (4+0j), '0001': (2+0j), '0000': (3+0j), '0111': (4+0j), '0110': (2+0j), '0101': 0j, '0100': (1+0j)}\n"
     ]
    }
   ],
   "source": [
    "# perform basis change for all kets in a statevector\n",
    "# use dictionary comprehension over statevector\n",
    "# this will 'shuffle' kets around, though that shouldn't make a difference \n",
    "# in entangled() method since kets are only used reference amplitudes and \n",
    "# place in decomp_dictionary, which is ordered   \n",
    "\n",
    "# perform basis change on a single ket\n",
    "def basis_change_ket(target_ket, source_ket):\n",
    "    target_ket = format(\n",
    "        (int(target_ket,2))^(int(source_ket,2)), '0'+str(len(source_ket))+'b'\n",
    "        )\n",
    "    return target_ket\n",
    "\n",
    "# perform basis change on kets and generate a new statevector\n",
    "# note:  can this be done with Python map() method?\n",
    "def basis_change(statevector, source_ket):\n",
    "    new_statevector = {\n",
    "        basis_change_ket(key, source_ket): value\n",
    "        # format((int(key,2))^(int(ket,2)), '0'+str(len(ket))+'b'): value \n",
    "        for (key, value) in statevector.items()\n",
    "    }\n",
    "\n",
    "    return new_statevector\n",
    "\n",
    "new_statevector = basis_change(x, '1011')\n",
    "\n",
    "print(x)\n",
    "print(new_statevector)\n"
   ]
  },
  {
   "cell_type": "code",
   "execution_count": 118,
   "metadata": {},
   "outputs": [
    {
     "name": "stdout",
     "output_type": "stream",
     "text": [
      "{'0000': 0j, '0001': (2+0j), '0010': 0j, '0011': (3+0j), '0100': (1+0j), '0101': (2+0j), '0110': (3+0j), '0111': 0j, '1000': 0j, '1001': (4+0j), '1010': (2+0j), '1011': (3+0j), '1100': (4+0j), '1101': (2+0j), '1110': 0j, '1111': (1+0j)}\n",
      "{'0000': '1011', '0001': '1010', '0010': '1001', '0011': '1000', '0100': '1111', '0101': '1110', '0110': '1101', '0111': '1100', '1000': '0011', '1001': '0010', '1010': '0001', '1011': '0000', '1100': '0111', '1101': '0110', '1110': '0101', '1111': '0100'}\n"
     ]
    }
   ],
   "source": [
    "    \n",
    "# instead of copy and edit statevector keys directly, we can:\n",
    "#   - create a new dictionary {new_ket: old_ket}\n",
    "#   - map amplitude of old_ket to new_ket in a new statevector:\n",
    "#       new_statevector[new_ket] = old_statevector[old_ket]\n",
    "# this approach will keep kets \"in order\" in new statevector\n",
    "# use list comprehension to create {new_ket: old_ket} dictionary from \n",
    "# statevector.keys()\n",
    "\n",
    "# create new dictionary mapping\n",
    "# note:  can this be done with Python map() method\n",
    "def basis_change_dict(statevector, source_ket):\n",
    "    dict = {\n",
    "        key: basis_change_ket(key, source_ket) for key in statevector.keys()\n",
    "    }\n",
    "    return dict\n",
    "\n",
    "basis_change_dictionary = basis_change_dict(x, '1011')\n",
    "\n",
    "print(x)\n",
    "print(basis_change_dictionary)"
   ]
  },
  {
   "cell_type": "code",
   "execution_count": 121,
   "metadata": {},
   "outputs": [
    {
     "name": "stdout",
     "output_type": "stream",
     "text": [
      "{'0000': 0j, '0001': (2+0j), '0010': 0j, '0011': (3+0j), '0100': (1+0j), '0101': (2+0j), '0110': (3+0j), '0111': 0j, '1000': 0j, '1001': (4+0j), '1010': (2+0j), '1011': (3+0j), '1100': (4+0j), '1101': (2+0j), '1110': 0j, '1111': (1+0j)}\n",
      "{'0000': (3+0j), '0001': (2+0j), '0010': (4+0j), '0011': 0j, '0100': (1+0j), '0101': 0j, '0110': (2+0j), '0111': (4+0j), '1000': (3+0j), '1001': 0j, '1010': (2+0j), '1011': 0j, '1100': 0j, '1101': (3+0j), '1110': (2+0j), '1111': (1+0j)}\n"
     ]
    }
   ],
   "source": [
    "# map amplitude of old_ket to new_ket in a new statevector:\n",
    "#   new_statevector[new_ket] = old_statevector[old_ket]\n",
    "\n",
    "number_qubits = 4\n",
    "\n",
    "def map_amplitudes(old_statevector, dict: dict) -> dict:\n",
    "    statevector = Statevector(np.ones(2**number_qubits)).to_dict()\n",
    "    for key in statevector.keys():\n",
    "        statevector[key] = old_statevector[dict[key]]\n",
    "    return statevector\n",
    "\n",
    "new_statevector_two = map_amplitudes(x, basis_change_dictionary)\n",
    "\n",
    "print(x)\n",
    "print(new_statevector_two)"
   ]
  },
  {
   "cell_type": "code",
   "execution_count": 107,
   "metadata": {},
   "outputs": [
    {
     "data": {
      "text/plain": [
       "'\\nnew dictionary from dictionary comprehension:\\n    dict = { \\n        (key): (value) for (key, value) in dictionary.items()\\n        }\\n'"
      ]
     },
     "execution_count": 107,
     "metadata": {},
     "output_type": "execute_result"
    }
   ],
   "source": [
    "\"\"\"\n",
    "new dictionary from list comprehension:\n",
    "    dict = {\n",
    "        (key): (value) for (item) in (list) \n",
    "        }\n",
    "\"\"\"\n",
    "\"\"\"\n",
    "new dictionary from dictionary comprehension:\n",
    "    dict = { \n",
    "        (key): (value) for (key, value) in dictionary.items()\n",
    "        }\n",
    "\"\"\""
   ]
  }
 ],
 "metadata": {
  "kernelspec": {
   "display_name": "Python 3",
   "language": "python",
   "name": "python3"
  },
  "language_info": {
   "codemirror_mode": {
    "name": "ipython",
    "version": 3
   },
   "file_extension": ".py",
   "mimetype": "text/x-python",
   "name": "python",
   "nbconvert_exporter": "python",
   "pygments_lexer": "ipython3",
   "version": "3.11.4"
  }
 },
 "nbformat": 4,
 "nbformat_minor": 2
}
